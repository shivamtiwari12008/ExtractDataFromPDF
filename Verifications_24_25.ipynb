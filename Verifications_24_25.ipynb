{
 "cells": [
  {
   "cell_type": "code",
   "execution_count": 1,
   "id": "41516f9e",
   "metadata": {},
   "outputs": [
    {
     "name": "stderr",
     "output_type": "stream",
     "text": [
      "[INFO] Start to convert D:\\QCI_Phase2\\QCI_Letter.pdf\n",
      "[INFO] \u001b[1;36m[1/4] Opening document...\u001b[0m\n",
      "[INFO] \u001b[1;36m[2/4] Analyzing document...\u001b[0m\n",
      "[INFO] \u001b[1;36m[3/4] Parsing pages...\u001b[0m\n",
      "[INFO] (1/1) Page 1\n",
      "[INFO] \u001b[1;36m[4/4] Creating pages...\u001b[0m\n",
      "[INFO] (1/1) Page 1\n",
      "[INFO] Terminated in 6.56s.\n"
     ]
    }
   ],
   "source": [
    "from pdf2docx import Converter\n",
    "\n",
    "def convert_pdf_to_docx(pdf_path, docx_path):\n",
    "    # Create a converter object\n",
    "    cv = Converter(pdf_path)\n",
    "    \n",
    "    # Convert the PDF to DOCX\n",
    "    cv.convert(docx_path, start=0, end=None)\n",
    "    \n",
    "    # Close the converter\n",
    "    cv.close()\n",
    "\n",
    "# Example usage:\n",
    "pdf_path = \"D:\\QCI_Phase2\\QCI_Letter.pdf\"\n",
    "docx_path = \"D:\\\\QCI_Phase2\\output.docx\"\n",
    "\n",
    "convert_pdf_to_docx(pdf_path, docx_path)"
   ]
  },
  {
   "cell_type": "code",
   "execution_count": 2,
   "id": "107cf68c",
   "metadata": {},
   "outputs": [],
   "source": [
    "from docx import Document\n",
    "\n",
    "def delete_content_except_tables(docx_path):\n",
    "    # Open the DOCX file\n",
    "    doc = Document(r\"D:\\output.docx\")\n",
    "\n",
    "    # Clear all paragraphs and images except for tables\n",
    "    for element in reversed(doc.element.body):\n",
    "        if element.tag.endswith('tbl'):\n",
    "            continue\n",
    "        else:\n",
    "            doc.element.body.remove(element)\n",
    "\n",
    "    # Save the modified document\n",
    "    doc.save(docx_path)\n",
    "\n",
    "# Example usage:\n",
    "docx_path = \"D:\\\\output.docx\"\n",
    "delete_content_except_tables(docx_path)"
   ]
  },
  {
   "cell_type": "code",
   "execution_count": 3,
   "id": "fa675a58",
   "metadata": {},
   "outputs": [],
   "source": [
    "doc=Document(\"D:\\QCI_Phase2\\output.docx\")"
   ]
  },
  {
   "cell_type": "code",
   "execution_count": 4,
   "id": "ded5592b",
   "metadata": {},
   "outputs": [
    {
     "name": "stderr",
     "output_type": "stream",
     "text": [
      "[INFO] NumExpr defaulting to 8 threads.\n"
     ]
    }
   ],
   "source": [
    "import pandas as pd\n",
    "df=pd.DataFrame()"
   ]
  },
  {
   "cell_type": "code",
   "execution_count": 5,
   "id": "94d65c83",
   "metadata": {},
   "outputs": [],
   "source": [
    "n1=len(doc.tables[0].rows)\n",
    "n2=len(doc.tables[0].columns)\n",
    "for i in range(0,n1):\n",
    "    for j in range(0,n2):\n",
    "        df.loc[i,j]=doc.tables[0].cell(i,j).text\n",
    "        "
   ]
  },
  {
   "cell_type": "code",
   "execution_count": 6,
   "id": "dcd6b91e",
   "metadata": {},
   "outputs": [],
   "source": [
    "df.columns=df.loc[0,]"
   ]
  },
  {
   "cell_type": "code",
   "execution_count": 7,
   "id": "22d964d0",
   "metadata": {},
   "outputs": [],
   "source": [
    "df.drop(axis=0,index=0,inplace=True)"
   ]
  },
  {
   "cell_type": "code",
   "execution_count": 8,
   "id": "4df9ad49",
   "metadata": {},
   "outputs": [],
   "source": [
    "df=df.replace('')"
   ]
  },
  {
   "cell_type": "code",
   "execution_count": 9,
   "id": "e0679d8c",
   "metadata": {},
   "outputs": [],
   "source": [
    "df=df[~(df['S. No']=='S. No')].reset_index().drop(columns=['S. No']).rename(columns={'index':'S.No'})"
   ]
  },
  {
   "cell_type": "code",
   "execution_count": 10,
   "id": "14c2a6e8",
   "metadata": {},
   "outputs": [],
   "source": [
    "LGD=list(df['LGD'].astype(int))"
   ]
  },
  {
   "cell_type": "code",
   "execution_count": 11,
   "id": "434b02cb",
   "metadata": {},
   "outputs": [],
   "source": [
    "import pandas as pd\n",
    "import numpy as np"
   ]
  },
  {
   "cell_type": "code",
   "execution_count": 12,
   "id": "ec3518cc",
   "metadata": {},
   "outputs": [],
   "source": [
    "import docx"
   ]
  },
  {
   "cell_type": "code",
   "execution_count": 13,
   "id": "e859d712",
   "metadata": {},
   "outputs": [],
   "source": [
    "Demand_Side_Phase2=pd.read_excel(r\"D:\\Shivam New\\BhimSen Sir\\WSP_23_24 Phase2\\Atal Portal Demans Side Supply Side Excel\\DLI#3_demand side.xlsx\",sheet_name=\"Demand Side\")"
   ]
  },
  {
   "cell_type": "code",
   "execution_count": 14,
   "id": "bebd551d",
   "metadata": {},
   "outputs": [],
   "source": [
    "Demand_Side_Phase2_leftover=pd.read_excel(r\"D:\\Shivam New\\BhimSen Sir\\WSP_23_24 Phase2\\Atal Portal Demans Side Supply Side Excel\\DLI#3_demand side.xlsx\",sheet_name=\"Demand Side Phase 1\")"
   ]
  },
  {
   "cell_type": "code",
   "execution_count": 15,
   "id": "d8fc3b09",
   "metadata": {},
   "outputs": [],
   "source": [
    "Supply_Side_Phase2=pd.read_excel(r\"D:\\Shivam New\\BhimSen Sir\\WSP_23_24 Phase2\\Atal Portal Demans Side Supply Side Excel\\DLI#3_supply side.xlsx\",sheet_name=\"Supply Side\")\n",
    "Supply_Side_Phase2_leftover=pd.read_excel(r\"D:\\Shivam New\\BhimSen Sir\\WSP_23_24 Phase2\\Atal Portal Demans Side Supply Side Excel\\DLI#3_supply side.xlsx\",sheet_name=\"Supply Side Phase 1\")"
   ]
  },
  {
   "cell_type": "code",
   "execution_count": 16,
   "id": "6c221717",
   "metadata": {},
   "outputs": [],
   "source": [
    "DLI4_CropShift=pd.read_excel(r\"D:\\Shivam New\\BhimSen Sir\\WSP_23_24 Phase2\\Atal Portal Demans Side Supply Side Excel\\DLI#4_Crop Shift.xlsx\")\n",
    "DLI4_MI=pd.read_excel(r\"D:\\Shivam New\\BhimSen Sir\\WSP_23_24 Phase2\\Atal Portal Demans Side Supply Side Excel\\DLI#4_Micro Irrigation.xlsx\")\n",
    "DLI4_OtherActivities=pd.read_excel(r\"D:\\Shivam New\\BhimSen Sir\\WSP_23_24 Phase2\\Atal Portal Demans Side Supply Side Excel\\DLI4 Cane Dept Pvt Financing.xlsx\")"
   ]
  },
  {
   "cell_type": "code",
   "execution_count": 17,
   "id": "5e013759",
   "metadata": {},
   "outputs": [],
   "source": [
    "DLI4_CropShift_Claim=DLI4_CropShift[DLI4_CropShift['LGD'].isin(LGD)]\n",
    "DLI4_MI_Claim=DLI4_MI[DLI4_MI['LGD'].isin(LGD)]\n",
    "DLI4_OtherActivities_Claim=DLI4_OtherActivities[DLI4_OtherActivities['LGD'].isin(LGD)]"
   ]
  },
  {
   "cell_type": "code",
   "execution_count": 18,
   "id": "dd2896b3",
   "metadata": {},
   "outputs": [],
   "source": [
    "Demand_Side_Phase2_Claim=Demand_Side_Phase2[Demand_Side_Phase2['LGD'].isin(LGD)]"
   ]
  },
  {
   "cell_type": "code",
   "execution_count": 19,
   "id": "d5207f4f",
   "metadata": {},
   "outputs": [],
   "source": [
    "Demand_Side_Phase2_leftover_Claim=Demand_Side_Phase2_leftover[Demand_Side_Phase2_leftover['LGD'].isin(LGD)]"
   ]
  },
  {
   "cell_type": "code",
   "execution_count": 20,
   "id": "067ff85f",
   "metadata": {},
   "outputs": [],
   "source": [
    "Supply_Side_Phase2_Claim=Supply_Side_Phase2[Supply_Side_Phase2['LGD'].isin(LGD)]\n",
    "Supply_Side_Phase2_leftover_Claim=Supply_Side_Phase2_leftover[Supply_Side_Phase2_leftover['LGD'].isin(LGD)]"
   ]
  },
  {
   "cell_type": "code",
   "execution_count": 21,
   "id": "b5f3c805",
   "metadata": {},
   "outputs": [],
   "source": [
    "def make_table(tab,nm):\n",
    "    docs.add_heading(nm)\n",
    "    rows=tab.shape[0]+1\n",
    "    columns= tab.shape[1]\n",
    "    tab_in=docs.add_table(rows=rows,cols=columns)\n",
    "    for j in range(0,columns):\n",
    "            tab_in.cell(0,j).text=str(tab.columns[j])\n",
    "    for m in range(1,rows):\n",
    "        for n in range(0,columns):\n",
    "            tab_in.cell(m,n).text=str(tab.iloc[m-1,n])\n",
    "    \n",
    "            "
   ]
  },
  {
   "cell_type": "markdown",
   "id": "6268fa21",
   "metadata": {},
   "source": [
    "DLI#3"
   ]
  },
  {
   "cell_type": "code",
   "execution_count": 22,
   "id": "2e8b545d",
   "metadata": {},
   "outputs": [
    {
     "data": {
      "text/plain": [
       "Index(['District', 'Block', 'Grampanchayat', 'LGD',\n",
       "       'Demand Side Interventions', 'Department Name',\n",
       "       'Area Covered (in ha)(Phase 2)',\n",
       "       'Expenditure incurred other than Atal Jal (in lakh)(Phase 2)'],\n",
       "      dtype='object')"
      ]
     },
     "execution_count": 22,
     "metadata": {},
     "output_type": "execute_result"
    }
   ],
   "source": [
    "Demand_Side_Phase2_Claim.columns"
   ]
  },
  {
   "cell_type": "code",
   "execution_count": 23,
   "id": "c20b176e",
   "metadata": {},
   "outputs": [],
   "source": [
    "df2 = pd.concat([\n",
    "Demand_Side_Phase2_Claim[['LGD','Department Name']],\n",
    "Demand_Side_Phase2_leftover_Claim[['LGD','Department Name']],\n",
    "DLI4_CropShift_Claim[['LGD','Department Name']],\n",
    "DLI4_MI_Claim[['LGD','Department Name']],\n",
    "DLI4_OtherActivities_Claim[['LGD','Department Name']],\n",
    "Supply_Side_Phase2_Claim[['LGD','Department Name']],\n",
    "Supply_Side_Phase2_leftover_Claim[['LGD','Department Name']]], axis=0, ignore_index=True)"
   ]
  },
  {
   "cell_type": "code",
   "execution_count": 24,
   "id": "e3d709f8",
   "metadata": {},
   "outputs": [
    {
     "data": {
      "text/html": [
       "<div>\n",
       "<style scoped>\n",
       "    .dataframe tbody tr th:only-of-type {\n",
       "        vertical-align: middle;\n",
       "    }\n",
       "\n",
       "    .dataframe tbody tr th {\n",
       "        vertical-align: top;\n",
       "    }\n",
       "\n",
       "    .dataframe thead th {\n",
       "        text-align: right;\n",
       "    }\n",
       "</style>\n",
       "<table border=\"1\" class=\"dataframe\">\n",
       "  <thead>\n",
       "    <tr style=\"text-align: right;\">\n",
       "      <th></th>\n",
       "      <th>LGD</th>\n",
       "      <th>Department Name</th>\n",
       "    </tr>\n",
       "  </thead>\n",
       "  <tbody>\n",
       "  </tbody>\n",
       "</table>\n",
       "</div>"
      ],
      "text/plain": [
       "Empty DataFrame\n",
       "Columns: [LGD, Department Name]\n",
       "Index: []"
      ]
     },
     "execution_count": 24,
     "metadata": {},
     "output_type": "execute_result"
    }
   ],
   "source": [
    "df2[df2['Department Name'].isnull()]"
   ]
  },
  {
   "cell_type": "code",
   "execution_count": 25,
   "id": "c1e2ad06",
   "metadata": {},
   "outputs": [],
   "source": [
    "df3=pd.DataFrame()"
   ]
  },
  {
   "cell_type": "code",
   "execution_count": 26,
   "id": "2903b25f",
   "metadata": {},
   "outputs": [
    {
     "name": "stdout",
     "output_type": "stream",
     "text": [
      "51323\n",
      "81313\n",
      "81298\n",
      "81320\n",
      "58267\n",
      "70967\n",
      "67391\n",
      "58307\n",
      "67377\n",
      "51302\n",
      "51306\n",
      "51316\n",
      "81095\n",
      "81115\n",
      "71015\n",
      "77111\n"
     ]
    }
   ],
   "source": [
    "o=0\n",
    "for z in list(df2['LGD'].unique()):\n",
    "    print(z)\n",
    "    c=''\n",
    "    for y in list(df2[df2['LGD']==z]['Department Name'].unique()):\n",
    "        c=y + \" , \" + c\n",
    "    df3.loc[o,0]=int(z)\n",
    "    df3.loc[o,1]=c\n",
    "    o=o+1\n",
    "df3.columns=['LGD','Department Name']"
   ]
  },
  {
   "cell_type": "code",
   "execution_count": 27,
   "id": "b390bf40",
   "metadata": {},
   "outputs": [],
   "source": [
    "df3['LGD']=pd.to_numeric(df3['LGD'])"
   ]
  },
  {
   "cell_type": "code",
   "execution_count": 28,
   "id": "07606ea4",
   "metadata": {},
   "outputs": [],
   "source": [
    "df3['LGD']=df3['LGD'].astype(int)"
   ]
  },
  {
   "cell_type": "code",
   "execution_count": 29,
   "id": "34055e9b",
   "metadata": {
    "scrolled": true
   },
   "outputs": [],
   "source": [
    "df['LGD']=pd.to_numeric(df['LGD'])\n",
    "df['LGD']=df['LGD'].astype(int)"
   ]
  },
  {
   "cell_type": "code",
   "execution_count": 30,
   "id": "30015751",
   "metadata": {},
   "outputs": [],
   "source": [
    "df4=df.merge(df3,on='LGD',how='inner')"
   ]
  },
  {
   "cell_type": "code",
   "execution_count": 31,
   "id": "6a333f18",
   "metadata": {},
   "outputs": [],
   "source": [
    "docs=docx.Document()"
   ]
  },
  {
   "cell_type": "code",
   "execution_count": 32,
   "id": "cb042c07",
   "metadata": {},
   "outputs": [],
   "source": [
    "make_table(df4,\" \")\n",
    "make_table(Demand_Side_Phase2_Claim,\"Demand_Side_Phase2_Claim\")\n",
    "make_table(Demand_Side_Phase2_leftover_Claim,\"Demand_Side_Phase1_leftover_Claim\")\n",
    "make_table(Supply_Side_Phase2_Claim,\"Supply_Side_Phase2_Claim\")\n",
    "make_table(Supply_Side_Phase2_leftover_Claim,\"Supply_Side_Phase1_leftover_Claim\")"
   ]
  },
  {
   "cell_type": "markdown",
   "id": "66fe6afb",
   "metadata": {},
   "source": [
    "DLI#4"
   ]
  },
  {
   "cell_type": "code",
   "execution_count": 33,
   "id": "e3d64aa8",
   "metadata": {},
   "outputs": [],
   "source": [
    "make_table(DLI4_CropShift_Claim,\"DLI4_CropShift_Claim\")\n",
    "make_table(DLI4_MI_Claim,\"DLI4_Micro Irrigation_Claim\")\n",
    "make_table(DLI4_OtherActivities_Claim,\"DLI4_OtherActivities_Claim\")"
   ]
  },
  {
   "cell_type": "code",
   "execution_count": 34,
   "id": "9bb477e9",
   "metadata": {},
   "outputs": [],
   "source": [
    "docs.save(\"D:\\\\QCI_Phase2\\\\QCI_Phase2_Claim_document.docx\")"
   ]
  },
  {
   "cell_type": "code",
   "execution_count": 35,
   "id": "ca118805",
   "metadata": {},
   "outputs": [],
   "source": [
    "df5=df2.merge(df,on='LGD',how='inner')"
   ]
  },
  {
   "cell_type": "code",
   "execution_count": 36,
   "id": "1c99ea3a",
   "metadata": {},
   "outputs": [
    {
     "data": {
      "text/html": [
       "<div>\n",
       "<style scoped>\n",
       "    .dataframe tbody tr th:only-of-type {\n",
       "        vertical-align: middle;\n",
       "    }\n",
       "\n",
       "    .dataframe tbody tr th {\n",
       "        vertical-align: top;\n",
       "    }\n",
       "\n",
       "    .dataframe thead th {\n",
       "        text-align: right;\n",
       "    }\n",
       "</style>\n",
       "<table border=\"1\" class=\"dataframe\">\n",
       "  <thead>\n",
       "    <tr style=\"text-align: right;\">\n",
       "      <th></th>\n",
       "      <th>LGD</th>\n",
       "      <th>Department Name</th>\n",
       "      <th>S.No</th>\n",
       "      <th>State Name</th>\n",
       "      <th>District Name</th>\n",
       "      <th>Block Name</th>\n",
       "      <th>Gram Panchayat Name</th>\n",
       "      <th>Start Date</th>\n",
       "      <th>Time</th>\n",
       "    </tr>\n",
       "  </thead>\n",
       "  <tbody>\n",
       "    <tr>\n",
       "      <th>0</th>\n",
       "      <td>51323</td>\n",
       "      <td>Department of Horticulture</td>\n",
       "      <td>4</td>\n",
       "      <td>UTTAR PRADESH</td>\n",
       "      <td>Banda_128</td>\n",
       "      <td>Jaspura_937</td>\n",
       "      <td>Sindhan Kalan</td>\n",
       "      <td>14/05/24</td>\n",
       "      <td>02.00 AM</td>\n",
       "    </tr>\n",
       "    <tr>\n",
       "      <th>1</th>\n",
       "      <td>51323</td>\n",
       "      <td>Department of Agriculture</td>\n",
       "      <td>4</td>\n",
       "      <td>UTTAR PRADESH</td>\n",
       "      <td>Banda_128</td>\n",
       "      <td>Jaspura_937</td>\n",
       "      <td>Sindhan Kalan</td>\n",
       "      <td>14/05/24</td>\n",
       "      <td>02.00 AM</td>\n",
       "    </tr>\n",
       "    <tr>\n",
       "      <th>2</th>\n",
       "      <td>51323</td>\n",
       "      <td>Rural Department and Panchayati Raj</td>\n",
       "      <td>4</td>\n",
       "      <td>UTTAR PRADESH</td>\n",
       "      <td>Banda_128</td>\n",
       "      <td>Jaspura_937</td>\n",
       "      <td>Sindhan Kalan</td>\n",
       "      <td>14/05/24</td>\n",
       "      <td>02.00 AM</td>\n",
       "    </tr>\n",
       "    <tr>\n",
       "      <th>3</th>\n",
       "      <td>51323</td>\n",
       "      <td>Rural Development Department</td>\n",
       "      <td>4</td>\n",
       "      <td>UTTAR PRADESH</td>\n",
       "      <td>Banda_128</td>\n",
       "      <td>Jaspura_937</td>\n",
       "      <td>Sindhan Kalan</td>\n",
       "      <td>14/05/24</td>\n",
       "      <td>02.00 AM</td>\n",
       "    </tr>\n",
       "    <tr>\n",
       "      <th>4</th>\n",
       "      <td>81313</td>\n",
       "      <td>Department of Horticulture</td>\n",
       "      <td>13</td>\n",
       "      <td>UTTAR PRADESH</td>\n",
       "      <td>Shamli_660</td>\n",
       "      <td>Kandhala_1430</td>\n",
       "      <td>Lisarh</td>\n",
       "      <td>14/05/24</td>\n",
       "      <td>10.00 AM</td>\n",
       "    </tr>\n",
       "    <tr>\n",
       "      <th>...</th>\n",
       "      <td>...</td>\n",
       "      <td>...</td>\n",
       "      <td>...</td>\n",
       "      <td>...</td>\n",
       "      <td>...</td>\n",
       "      <td>...</td>\n",
       "      <td>...</td>\n",
       "      <td>...</td>\n",
       "      <td>...</td>\n",
       "    </tr>\n",
       "    <tr>\n",
       "      <th>94</th>\n",
       "      <td>71015</td>\n",
       "      <td>Rural Development Department</td>\n",
       "      <td>8</td>\n",
       "      <td>UTTAR PRADESH</td>\n",
       "      <td>Jhansi_153</td>\n",
       "      <td>Mauranipur_1250</td>\n",
       "      <td>Sijari Khurd</td>\n",
       "      <td>14/05/24</td>\n",
       "      <td>2.00 PM</td>\n",
       "    </tr>\n",
       "    <tr>\n",
       "      <th>95</th>\n",
       "      <td>77111</td>\n",
       "      <td>Rural Development Department (ZP / GP)</td>\n",
       "      <td>16</td>\n",
       "      <td>UTTAR PRADESH</td>\n",
       "      <td>Mahoba_165</td>\n",
       "      <td>Jaitpur_1357</td>\n",
       "      <td>Bhatewara Khurd</td>\n",
       "      <td>14/05/24</td>\n",
       "      <td>10.00 AM</td>\n",
       "    </tr>\n",
       "    <tr>\n",
       "      <th>96</th>\n",
       "      <td>77111</td>\n",
       "      <td>Minor Irrigation Department</td>\n",
       "      <td>16</td>\n",
       "      <td>UTTAR PRADESH</td>\n",
       "      <td>Mahoba_165</td>\n",
       "      <td>Jaitpur_1357</td>\n",
       "      <td>Bhatewara Khurd</td>\n",
       "      <td>14/05/24</td>\n",
       "      <td>10.00 AM</td>\n",
       "    </tr>\n",
       "    <tr>\n",
       "      <th>97</th>\n",
       "      <td>77111</td>\n",
       "      <td>Rural Development Department</td>\n",
       "      <td>16</td>\n",
       "      <td>UTTAR PRADESH</td>\n",
       "      <td>Mahoba_165</td>\n",
       "      <td>Jaitpur_1357</td>\n",
       "      <td>Bhatewara Khurd</td>\n",
       "      <td>14/05/24</td>\n",
       "      <td>10.00 AM</td>\n",
       "    </tr>\n",
       "    <tr>\n",
       "      <th>98</th>\n",
       "      <td>77111</td>\n",
       "      <td>Rural Development Department</td>\n",
       "      <td>16</td>\n",
       "      <td>UTTAR PRADESH</td>\n",
       "      <td>Mahoba_165</td>\n",
       "      <td>Jaitpur_1357</td>\n",
       "      <td>Bhatewara Khurd</td>\n",
       "      <td>14/05/24</td>\n",
       "      <td>10.00 AM</td>\n",
       "    </tr>\n",
       "  </tbody>\n",
       "</table>\n",
       "<p>99 rows × 9 columns</p>\n",
       "</div>"
      ],
      "text/plain": [
       "      LGD                         Department Name  S.No     State Name  \\\n",
       "0   51323              Department of Horticulture     4  UTTAR PRADESH   \n",
       "1   51323               Department of Agriculture     4  UTTAR PRADESH   \n",
       "2   51323     Rural Department and Panchayati Raj     4  UTTAR PRADESH   \n",
       "3   51323            Rural Development Department     4  UTTAR PRADESH   \n",
       "4   81313              Department of Horticulture    13  UTTAR PRADESH   \n",
       "..    ...                                     ...   ...            ...   \n",
       "94  71015            Rural Development Department     8  UTTAR PRADESH   \n",
       "95  77111  Rural Development Department (ZP / GP)    16  UTTAR PRADESH   \n",
       "96  77111             Minor Irrigation Department    16  UTTAR PRADESH   \n",
       "97  77111            Rural Development Department    16  UTTAR PRADESH   \n",
       "98  77111            Rural Development Department    16  UTTAR PRADESH   \n",
       "\n",
       "   District Name       Block Name Gram Panchayat Name Start Date      Time  \n",
       "0      Banda_128      Jaspura_937       Sindhan Kalan   14/05/24  02.00 AM  \n",
       "1      Banda_128      Jaspura_937       Sindhan Kalan   14/05/24  02.00 AM  \n",
       "2      Banda_128      Jaspura_937       Sindhan Kalan   14/05/24  02.00 AM  \n",
       "3      Banda_128      Jaspura_937       Sindhan Kalan   14/05/24  02.00 AM  \n",
       "4     Shamli_660    Kandhala_1430              Lisarh   14/05/24  10.00 AM  \n",
       "..           ...              ...                 ...        ...       ...  \n",
       "94    Jhansi_153  Mauranipur_1250        Sijari Khurd   14/05/24   2.00 PM  \n",
       "95    Mahoba_165     Jaitpur_1357     Bhatewara Khurd   14/05/24  10.00 AM  \n",
       "96    Mahoba_165     Jaitpur_1357     Bhatewara Khurd   14/05/24  10.00 AM  \n",
       "97    Mahoba_165     Jaitpur_1357     Bhatewara Khurd   14/05/24  10.00 AM  \n",
       "98    Mahoba_165     Jaitpur_1357     Bhatewara Khurd   14/05/24  10.00 AM  \n",
       "\n",
       "[99 rows x 9 columns]"
      ]
     },
     "execution_count": 36,
     "metadata": {},
     "output_type": "execute_result"
    }
   ],
   "source": [
    "df5"
   ]
  },
  {
   "cell_type": "code",
   "execution_count": 37,
   "id": "9b85bf6a",
   "metadata": {},
   "outputs": [],
   "source": [
    "df6=df5[['Department Name']].drop_duplicates()"
   ]
  },
  {
   "cell_type": "code",
   "execution_count": 38,
   "id": "6ee2f7b1",
   "metadata": {},
   "outputs": [],
   "source": [
    "df6.sort_values(by=['Department Name'],inplace=True)"
   ]
  },
  {
   "cell_type": "code",
   "execution_count": 39,
   "id": "a8a0b4d3",
   "metadata": {},
   "outputs": [],
   "source": [
    "make_table(df6,\"District Name,Department Name\")"
   ]
  },
  {
   "cell_type": "code",
   "execution_count": 40,
   "id": "598a2468",
   "metadata": {},
   "outputs": [],
   "source": [
    "docs.save(\"D:\\\\QCI_Phase2\\\\QCI_Phase2_Claim_document.docx\")"
   ]
  }
 ],
 "metadata": {
  "kernelspec": {
   "display_name": "Python 3 (ipykernel)",
   "language": "python",
   "name": "python3"
  },
  "language_info": {
   "codemirror_mode": {
    "name": "ipython",
    "version": 3
   },
   "file_extension": ".py",
   "mimetype": "text/x-python",
   "name": "python",
   "nbconvert_exporter": "python",
   "pygments_lexer": "ipython3",
   "version": "3.11.5"
  }
 },
 "nbformat": 4,
 "nbformat_minor": 5
}
